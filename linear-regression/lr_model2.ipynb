{
 "cells": [
  {
   "cell_type": "code",
   "execution_count": null,
   "metadata": {},
   "outputs": [],
   "source": [
    "import numpy as np\n",
    "from matplotlib import pyplot as plt"
   ]
  },
  {
   "cell_type": "code",
   "execution_count": null,
   "metadata": {},
   "outputs": [],
   "source": [
    "def build_data():\n",
    "    X = np.array(range(256))\n",
    "    ns = np.random.normal(size=(256,))\n",
    "    y = X * 3 + 100\n",
    "    y = y.reshape(256, 1)\n",
    "    X = np.c_[np.ones(256), X]\n",
    "    return X, y"
   ]
  },
  {
   "cell_type": "code",
   "execution_count": null,
   "metadata": {},
   "outputs": [],
   "source": [
    "class LrModel:\n",
    "    def __init__(self):\n",
    "        self.params = np.array([[1], [1]])\n",
    "    \n",
    "    def fit(self, X, y):\n",
    "        t = X.T.dot(X)\n",
    "        t += np.eye(len(t)) * 0.0000000001\n",
    "        inv = np.linalg.inv(t)\n",
    "        self.params = inv.dot(X.T).dot(y)\n",
    "        \n",
    "    def predict(self, x):\n",
    "        return np.array([[1, x]]).dot(self.params)[0][0]\n",
    "    \n",
    "    def get_params(self):\n",
    "        return self.params[0][0], self.params[1][0]\n"
   ]
  },
  {
   "cell_type": "code",
   "execution_count": null,
   "metadata": {},
   "outputs": [],
   "source": [
    "X, y = build_data()\n",
    "model = LrModel()\n",
    "model.fit(X, y)"
   ]
  },
  {
   "cell_type": "code",
   "execution_count": null,
   "metadata": {},
   "outputs": [],
   "source": [
    "model.predict(10)"
   ]
  }
 ],
 "metadata": {
  "kernelspec": {
   "display_name": "Python 3",
   "language": "python",
   "name": "python3"
  },
  "language_info": {
   "codemirror_mode": {
    "name": "ipython",
    "version": 3
   },
   "file_extension": ".py",
   "mimetype": "text/x-python",
   "name": "python",
   "nbconvert_exporter": "python",
   "pygments_lexer": "ipython3",
   "version": "3.7.7"
  }
 },
 "nbformat": 4,
 "nbformat_minor": 4
}
