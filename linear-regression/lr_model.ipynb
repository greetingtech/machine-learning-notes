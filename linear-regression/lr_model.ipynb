{
 "cells": [
  {
   "cell_type": "code",
   "execution_count": null,
   "metadata": {},
   "outputs": [],
   "source": [
    "import numpy as np\n",
    "from matplotlib import pyplot as plt"
   ]
  },
  {
   "cell_type": "code",
   "execution_count": null,
   "metadata": {},
   "outputs": [],
   "source": [
    "def build_data():\n",
    "    x = np.array(range(256))\n",
    "    ns = np.random.normal(size=(256,))\n",
    "    y = x * 3 + 100\n",
    "    return x, y"
   ]
  },
  {
   "cell_type": "code",
   "execution_count": null,
   "metadata": {
    "scrolled": true
   },
   "outputs": [],
   "source": [
    "(data_x, data_y) = build_data()\n",
    "data_y\n",
    "# plt.plot(data_x, data_y)\n",
    "# plt.show()"
   ]
  },
  {
   "cell_type": "code",
   "execution_count": null,
   "metadata": {},
   "outputs": [],
   "source": [
    "class LrModel():\n",
    "    def __init__(self):\n",
    "        self.a = 0\n",
    "        self.b = 0\n",
    "        self.alpha = 0.000015\n",
    "        \n",
    "    def fit(self, data_x, data_y):\n",
    "        for loop in range(100000):\n",
    "            data_len = len(data_x)\n",
    "            grad_a = 0\n",
    "            grad_b = 0\n",
    "            for i in range(data_len):\n",
    "                comm = (self.a * data_x[i] + self.b - data_y[i]) / data_len * self.alpha\n",
    "                grad_a += comm * data_x[i]\n",
    "                grad_b += comm\n",
    "            self.a -= grad_a\n",
    "            self.b -= grad_b\n",
    "            if loop % 100 == 0:\n",
    "                info = \"a = {}, b = {}, mse = {}\".format(self.a, self.b, self._mse(data_x, data_y))\n",
    "                print(info)\n",
    "            \n",
    "    def predict(self, x):\n",
    "        return self.a * x + self.b\n",
    "    \n",
    "    def _mse(self, data_x, data_y):\n",
    "        mse = 0\n",
    "        data_len = len(data_x)\n",
    "        for i in range(data_len):\n",
    "            mse += (self.a * data_x[i] + self.b - data_y[i]) ** 2 / data_len\n",
    "        return mse\n",
    "        \n",
    "    def get_params(self):\n",
    "        return (self.a, self.b)\n",
    "    \n",
    "    "
   ]
  },
  {
   "cell_type": "code",
   "execution_count": null,
   "metadata": {
    "scrolled": true
   },
   "outputs": [],
   "source": [
    "model = LrModel()\n",
    "model.fit(data_x, data_y)"
   ]
  },
  {
   "cell_type": "code",
   "execution_count": null,
   "metadata": {},
   "outputs": [],
   "source": [
    "a, b = model.get_params()\n",
    "tx = np.array(range(128))\n",
    "ty = a * tx + b\n",
    "plt.plot(tx, ty)\n",
    "plt.plot(x_data, y_data)\n",
    "plt.show()"
   ]
  },
  {
   "cell_type": "code",
   "execution_count": null,
   "metadata": {},
   "outputs": [],
   "source": []
  }
 ],
 "metadata": {
  "kernelspec": {
   "display_name": "Python 3",
   "language": "python",
   "name": "python3"
  },
  "language_info": {
   "codemirror_mode": {
    "name": "ipython",
    "version": 3
   },
   "file_extension": ".py",
   "mimetype": "text/x-python",
   "name": "python",
   "nbconvert_exporter": "python",
   "pygments_lexer": "ipython3",
   "version": "3.7.7"
  }
 },
 "nbformat": 4,
 "nbformat_minor": 4
}
